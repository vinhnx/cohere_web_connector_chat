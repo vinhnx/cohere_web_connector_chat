{
 "cells": [
  {
   "cell_type": "code",
   "execution_count": null,
   "metadata": {},
   "outputs": [],
   "source": [
    "# Install the required libraries\n",
    "!pip install cohere\n",
    "\n",
    "import uuid\n",
    "from typing import List\n",
    "\n",
    "import cohere"
   ]
  },
  {
   "cell_type": "markdown",
   "metadata": {},
   "source": [
    "This code sets up the necessary imports and installs the Cohere library if it's not already installed.\n"
   ]
  },
  {
   "cell_type": "code",
   "execution_count": null,
   "metadata": {},
   "outputs": [],
   "source": [
    "# Replace with your Cohere API key\n",
    "API_KEY = \"\"\n",
    "EMBED_MODEL_NAME = \"embed-english-v3.0\"\n",
    "CHAT_MODEL_NAME = \"command-r\"\n",
    "\n",
    "co = cohere.Client(API_KEY)"
   ]
  },
  {
   "cell_type": "markdown",
   "metadata": {},
   "source": [
    "Here, we define the API key, embedding model name, and chat model name. Make sure to replace API_KEY with your actual Cohere API key.\n"
   ]
  },
  {
   "cell_type": "code",
   "execution_count": null,
   "metadata": {},
   "outputs": [],
   "source": [
    "# https://txt.cohere.com/rag-connectors/\n",
    "\n",
    "\n",
    "class Chatbot:\n",
    "    def __init__(self, connectors: List[str]):\n",
    "        \"\"\"\n",
    "        Initializes an instance of the Chatbot class.\n",
    "        \"\"\"\n",
    "        self.conversation_id = str(uuid.uuid4())\n",
    "        self.connectors = [\n",
    "            cohere.ChatConnector(id=connector) for connector in connectors\n",
    "        ]\n",
    "\n",
    "    def run(self):\n",
    "        \"\"\"\n",
    "        Runs the chatbot application.\n",
    "        \"\"\"\n",
    "        while True:\n",
    "            # Get the user message\n",
    "            message = input(\"User: \")\n",
    "\n",
    "            # Typing \"quit\" ends the conversation\n",
    "            if message.lower() == \"quit\":\n",
    "                print(\"Ending chat.\")\n",
    "                break\n",
    "\n",
    "            # Generate response\n",
    "            response = co.chat_stream(\n",
    "                message=message,\n",
    "                model=\"command-r\",\n",
    "                conversation_id=self.conversation_id,\n",
    "                connectors=self.connectors,\n",
    "            )\n",
    "\n",
    "            # Print the chatbot response, citations, and documents\n",
    "            print(\"\\nChatbot:\")\n",
    "            citations = []\n",
    "            cited_documents = []\n",
    "\n",
    "            # Display response\n",
    "            for event in response:\n",
    "                if event.event_type == \"text-generation\":\n",
    "                    print(event.text, end=\"\")\n",
    "                elif event.event_type == \"citation-generation\":\n",
    "                    citations.extend(event.citations)\n",
    "                elif event.event_type == \"search-results\":\n",
    "                    cited_documents = event.documents\n",
    "\n",
    "            # Display citations and source documents\n",
    "            if citations:\n",
    "                print(\"\\n\\nCITATIONS:\")\n",
    "                for citation in citations:\n",
    "                    print(citation)\n",
    "\n",
    "                print(\"\\nDOCUMENTS:\")\n",
    "                for document in cited_documents:\n",
    "                    print(\n",
    "                        {\n",
    "                            \"id\": document[\"id\"],\n",
    "                            \"snippet\": document[\"snippet\"][:50] + \"...\",\n",
    "                            \"title\": document[\"title\"],\n",
    "                            \"url\": document[\"url\"],\n",
    "                        }\n",
    "                    )\n",
    "\n",
    "            print(f\"\\n{'-'*100}\\n\")"
   ]
  },
  {
   "cell_type": "markdown",
   "metadata": {},
   "source": [
    "This is the main code that defines the Chatbot class and its functionality. The **init** method initializes the chatbot with a unique conversation ID and a list of connectors (in this case, \"web-search\"). The run method implements the chatbot's main loop, where it prompts the user for input, generates a response using the Cohere API, and displays the response, citations, and relevant documents.\n"
   ]
  },
  {
   "cell_type": "code",
   "execution_count": 15,
   "metadata": {},
   "outputs": [
    {
     "name": "stdout",
     "output_type": "stream",
     "text": [
      "\n",
      "Chatbot:\n",
      "@vinhnx on Twitter appears to be the handle of a user named Sven. Their account was last active on March 19th, 2023.\n",
      "\n",
      "CITATIONS:\n",
      "start=60 end=65 text='Sven.' document_ids=['web-search_1']\n",
      "start=99 end=116 text='March 19th, 2023.' document_ids=['web-search_1']\n",
      "\n",
      "DOCUMENTS:\n",
      "{'id': 'web-search_0', 'snippet': '...', 'title': 'Twitter', 'url': 'https://twitter.com/vinniehacker'}\n",
      "{'id': 'web-search_1', 'snippet': '...', 'title': 'Twitter', 'url': 'https://mobile.twitter.com/svinx'}\n",
      "\n",
      "----------------------------------------------------------------------------------------------------\n",
      "\n",
      "\n",
      "Chatbot:\n",
      "I found several accounts for @vinhnx across social media platforms:\n",
      "\n",
      "- @vinhnyu on Twitter, Facebook and YouTube. The Facebook and Twitter profiles belong to Vinny Ohh, who also goes by the username @Vinnyohh on Instagram. His YouTube account is vinnyohh.\n",
      "- @vinnypxpx on Instagram appears to be run by a tattoo Shop Manager at Tribe Tattoo.\n",
      "\n",
      "I also found some information about a person named Vinny Ohh, who goes by the username @vinhnx on Twitter. Vinny is based in Los Angeles and is a makeup artist, part-time model, and self-described \"alien\". He has spent a significant sum on surgeries to achieve a \"genderless\" appearance and often shares his story on TV shows.\n",
      "\n",
      "CITATIONS:\n",
      "start=71 end=79 text='@vinhnyu' document_ids=['web-search_0', 'web-search_5']\n",
      "start=83 end=90 text='Twitter' document_ids=['web-search_0']\n",
      "start=92 end=100 text='Facebook' document_ids=['web-search_5']\n",
      "start=105 end=113 text='YouTube.' document_ids=['web-search_7']\n",
      "start=118 end=126 text='Facebook' document_ids=['web-search_5']\n",
      "start=131 end=138 text='Twitter' document_ids=['web-search_0']\n",
      "start=158 end=167 text='Vinny Ohh' document_ids=['web-search_3']\n",
      "start=199 end=208 text='@Vinnyohh' document_ids=['web-search_1']\n",
      "start=212 end=222 text='Instagram.' document_ids=['web-search_1']\n",
      "start=227 end=234 text='YouTube' document_ids=['web-search_7']\n",
      "start=246 end=255 text='vinnyohh.' document_ids=['web-search_7']\n",
      "start=258 end=268 text='@vinnypxpx' document_ids=['web-search_1']\n",
      "start=305 end=341 text='tattoo Shop Manager at Tribe Tattoo.' document_ids=['web-search_2']\n",
      "start=394 end=403 text='Vinny Ohh' document_ids=['web-search_3']\n",
      "start=430 end=437 text='@vinhnx' document_ids=['web-search_0']\n",
      "start=468 end=479 text='Los Angeles' document_ids=['web-search_3']\n",
      "start=489 end=502 text='makeup artist' document_ids=['web-search_3']\n",
      "start=504 end=519 text='part-time model' document_ids=['web-search_3']\n",
      "start=540 end=547 text='\"alien\"' document_ids=['web-search_3', 'web-search_6']\n",
      "start=556 end=629 text='spent a significant sum on surgeries to achieve a \"genderless\" appearance' document_ids=['web-search_3']\n",
      "start=660 end=669 text='TV shows.' document_ids=['web-search_3']\n",
      "\n",
      "DOCUMENTS:\n",
      "{'id': 'web-search_0', 'snippet': '...', 'title': 'Twitter', 'url': 'https://twitter.com/vinhnyu'}\n",
      "{'id': 'web-search_1', 'snippet': '...', 'title': 'Instagram', 'url': 'https://www.instagram.com/vinnyohh/'}\n",
      "{'id': 'web-search_2', 'snippet': 'Business Lead Generation : Get Leads with a Simple...', 'title': 'Email Address of @vinnypxpx Instagram Influencer Profile - Contact vinnypxpx', 'url': 'https://ninjaoutreach.com/vinnypxpx'}\n",
      "{'id': 'web-search_3', 'snippet': 'Jump directly to the content\\n\\nDeliver my newspaper...', 'title': 'Man who wants to remove his GENITALS to become a ‘sexless alien’ is warned by doctors that he may be left unable to urinate | The Sun', 'url': 'https://www.thesun.co.uk/living/3657265/doctors-man-remove-genitals-sexless-alien-unable-urinate/'}\n",
      "{'id': 'web-search_4', 'snippet': 'You signed in with another tab or window. Reload t...', 'title': 'vinch (Vincent Battaglia) · GitHub', 'url': 'https://github.com/vinch'}\n",
      "{'id': 'web-search_5', 'snippet': '...', 'title': 'Facebook', 'url': 'https://www.facebook.com/vinhnyu/'}\n",
      "{'id': 'web-search_6', 'snippet': '...', 'title': 'vinhnyu', 'url': 'http://tsundereko.com/'}\n",
      "{'id': 'web-search_7', 'snippet': 'Navigation überspringen\\n\\nYouTube Premium abonniere...', 'title': 'Vinnyohh - YouTube', 'url': 'https://www.youtube.com/user/Vinnyohh'}\n",
      "\n",
      "----------------------------------------------------------------------------------------------------\n",
      "\n",
      "\n",
      "Chatbot:\n"
     ]
    },
    {
     "ename": "ApiError",
     "evalue": "status_code: 400, body: {'message': 'invalid request: message must be at least 1 token long.'}",
     "output_type": "error",
     "traceback": [
      "\u001b[0;31m---------------------------------------------------------------------------\u001b[0m",
      "\u001b[0;31mApiError\u001b[0m                                  Traceback (most recent call last)",
      "Cell \u001b[0;32mIn[15], line 2\u001b[0m\n\u001b[1;32m      1\u001b[0m chat_bot \u001b[38;5;241m=\u001b[39m Chatbot(connectors\u001b[38;5;241m=\u001b[39m[\u001b[38;5;124m\"\u001b[39m\u001b[38;5;124mweb-search\u001b[39m\u001b[38;5;124m\"\u001b[39m])\n\u001b[0;32m----> 2\u001b[0m \u001b[43mchat_bot\u001b[49m\u001b[38;5;241;43m.\u001b[39;49m\u001b[43mrun\u001b[49m\u001b[43m(\u001b[49m\u001b[43m)\u001b[49m\n",
      "Cell \u001b[0;32mIn[14], line 41\u001b[0m, in \u001b[0;36mChatbot.run\u001b[0;34m(self)\u001b[0m\n\u001b[1;32m     38\u001b[0m cited_documents \u001b[38;5;241m=\u001b[39m []\n\u001b[1;32m     40\u001b[0m \u001b[38;5;66;03m# Display response\u001b[39;00m\n\u001b[0;32m---> 41\u001b[0m \u001b[43m\u001b[49m\u001b[38;5;28;43;01mfor\u001b[39;49;00m\u001b[43m \u001b[49m\u001b[43mevent\u001b[49m\u001b[43m \u001b[49m\u001b[38;5;129;43;01min\u001b[39;49;00m\u001b[43m \u001b[49m\u001b[43mresponse\u001b[49m\u001b[43m:\u001b[49m\n\u001b[1;32m     42\u001b[0m \u001b[43m    \u001b[49m\u001b[38;5;28;43;01mif\u001b[39;49;00m\u001b[43m \u001b[49m\u001b[43mevent\u001b[49m\u001b[38;5;241;43m.\u001b[39;49m\u001b[43mevent_type\u001b[49m\u001b[43m \u001b[49m\u001b[38;5;241;43m==\u001b[39;49m\u001b[43m \u001b[49m\u001b[38;5;124;43m\"\u001b[39;49m\u001b[38;5;124;43mtext-generation\u001b[39;49m\u001b[38;5;124;43m\"\u001b[39;49m\u001b[43m:\u001b[49m\n\u001b[1;32m     43\u001b[0m \u001b[43m        \u001b[49m\u001b[38;5;28;43mprint\u001b[39;49m\u001b[43m(\u001b[49m\u001b[43mevent\u001b[49m\u001b[38;5;241;43m.\u001b[39;49m\u001b[43mtext\u001b[49m\u001b[43m,\u001b[49m\u001b[43m \u001b[49m\u001b[43mend\u001b[49m\u001b[38;5;241;43m=\u001b[39;49m\u001b[38;5;124;43m\"\u001b[39;49m\u001b[38;5;124;43m\"\u001b[39;49m\u001b[43m)\u001b[49m\n",
      "File \u001b[0;32m~/Developer/learn-by-doing/cohere_chat/.venv/lib/python3.12/site-packages/cohere/base_client.py:427\u001b[0m, in \u001b[0;36mBaseCohere.chat_stream\u001b[0;34m(self, message, model, preamble, chat_history, conversation_id, prompt_truncation, connectors, search_queries_only, documents, temperature, max_tokens, max_input_tokens, k, p, seed, stop_sequences, frequency_penalty, presence_penalty, raw_prompting, tools, tool_results, request_options)\u001b[0m\n\u001b[1;32m    425\u001b[0m \u001b[38;5;28;01mexcept\u001b[39;00m JSONDecodeError:\n\u001b[1;32m    426\u001b[0m     \u001b[38;5;28;01mraise\u001b[39;00m ApiError(status_code\u001b[38;5;241m=\u001b[39m_response\u001b[38;5;241m.\u001b[39mstatus_code, body\u001b[38;5;241m=\u001b[39m_response\u001b[38;5;241m.\u001b[39mtext)\n\u001b[0;32m--> 427\u001b[0m \u001b[38;5;28;01mraise\u001b[39;00m ApiError(status_code\u001b[38;5;241m=\u001b[39m_response\u001b[38;5;241m.\u001b[39mstatus_code, body\u001b[38;5;241m=\u001b[39m_response_json)\n",
      "\u001b[0;31mApiError\u001b[0m: status_code: 400, body: {'message': 'invalid request: message must be at least 1 token long.'}"
     ]
    }
   ],
   "source": [
    "chat_bot = Chatbot(connectors=[\"web-search\"])\n",
    "chat_bot.run()"
   ]
  },
  {
   "cell_type": "markdown",
   "metadata": {},
   "source": [
    "Finally, this line creates an instance of the Chatbot class with the \"web-search\" connector and runs the chatbot application.\n",
    "To run this code in Google Colab, you can copy and paste it into a new notebook cell. Make sure to replace API_KEY with your actual Cohere API key. When you run the cell, it will install the required libraries (if not already installed), and then execute the chatbot application.\n"
   ]
  }
 ],
 "metadata": {
  "kernelspec": {
   "display_name": ".venv",
   "language": "python",
   "name": "python3"
  },
  "language_info": {
   "codemirror_mode": {
    "name": "ipython",
    "version": 3
   },
   "file_extension": ".py",
   "mimetype": "text/x-python",
   "name": "python",
   "nbconvert_exporter": "python",
   "pygments_lexer": "ipython3",
   "version": "3.12.2"
  }
 },
 "nbformat": 4,
 "nbformat_minor": 2
}
